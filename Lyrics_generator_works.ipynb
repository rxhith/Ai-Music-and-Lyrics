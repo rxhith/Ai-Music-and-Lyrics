{
  "cells": [
    {
      "cell_type": "markdown",
      "metadata": {
        "id": "view-in-github",
        "colab_type": "text"
      },
      "source": [
        "<a href=\"https://colab.research.google.com/github/rxhith/Ai-Music-and-Lyrics/blob/main/Lyrics_generator_works.ipynb\" target=\"_parent\"><img src=\"https://colab.research.google.com/assets/colab-badge.svg\" alt=\"Open In Colab\"/></a>"
      ]
    },
    {
      "cell_type": "code",
      "execution_count": null,
      "metadata": {
        "colab": {
          "background_save": true
        },
        "id": "rS5cOIUB4dRp",
        "outputId": "0eec16ee-80c0-49f8-c47f-57e5389aa11f"
      },
      "outputs": [
        {
          "data": {
            "application/vnd.google.colaboratory.intrinsic+json": {
              "type": "string"
            },
            "text/plain": [
              "'i **** you for a baby givin tissue is no'"
            ]
          },
          "execution_count": 2,
          "metadata": {},
          "output_type": "execute_result"
        }
      ],
      "source": [
        "import torch\n",
        "import torch.nn as nn\n",
        "import torch.nn.functional as Functional\n",
        "import numpy as np\n",
        "import re\n",
        "import string\n",
        "import random\n",
        "\n",
        "file = open(\"kanye_verses.txt\", \"r\", encoding=\"utf8\")\n",
        "text = file.read()\n",
        "text = text.replace(\"\\n\\n\", \"\\n\")\n",
        "\n",
        "\n",
        "def clean_lyric(lyric):\n",
        "    return re.sub(\"[^a-z' ]\", \"\", lyric).replace(\"'\", \"\")\n",
        "\n",
        "\n",
        "lyrics = text.lower().split(\"\\n\")\n",
        "lyrics = np.unique(lyrics)[1:].tolist()\n",
        "\n",
        "cleaned_lyrics = [clean_lyric(lyric) for lyric in lyrics]\n",
        "seq_size = 5\n",
        "\n",
        "\n",
        "def create_sequences(lyric, seq_len):\n",
        "    sequences = []\n",
        "\n",
        "    if len(lyric.split()) <= seq_len:\n",
        "        return [lyric]\n",
        "\n",
        "    for itr in range(seq_len, len(lyric.split())):\n",
        "        curr_seq = lyric.split()[itr - seq_len : itr + 1]\n",
        "        sequences.append(\" \".join(curr_seq))\n",
        "\n",
        "    return sequences\n",
        "\n",
        "\n",
        "raw_sequences = [create_sequences(lyric, seq_size) for lyric in cleaned_lyrics]\n",
        "\n",
        "sequences = np.unique(np.array(sum(raw_sequences, []))).tolist()\n",
        "uniq_words = np.unique(np.array(\" \".join(sequences).split(\" \")))\n",
        "uniq_words_idx = np.arange(uniq_words.size)\n",
        "\n",
        "word_to_idx = dict(zip(uniq_words.tolist(), uniq_words_idx.tolist()))\n",
        "idx_to_word = dict(zip(uniq_words_idx.tolist(), uniq_words.tolist()))\n",
        "\n",
        "vocab_size = len(word_to_idx)\n",
        "\n",
        "x_word = []\n",
        "y_word = []\n",
        "\n",
        "for seq in sequences:\n",
        "    if len(seq.split()) != seq_size + 1:\n",
        "        continue\n",
        "    x_word.append(\" \".join(seq.split()[:-1]))\n",
        "    y_word.append(\" \".join(seq.split()[1:]))\n",
        "\n",
        "\n",
        "def get_seq_idx(seq):\n",
        "    return [word_to_idx[word] for word in seq.split()]\n",
        "\n",
        "\n",
        "x_idx = np.array([get_seq_idx(word) for word in x_word])\n",
        "y_idx = np.array([get_seq_idx(word) for word in y_word])\n",
        "num_hidden = 256\n",
        "num_layers = 4\n",
        "embed_size = 200\n",
        "drop_prob = 0.3\n",
        "lr = 0.001\n",
        "num_epochs = 20\n",
        "batch_size = 32\n",
        "\n",
        "\n",
        "class LyricLSTM(nn.Module):\n",
        "    def __init__(self, num_hidden, num_layers, embed_size, drop_prob, lr):\n",
        "        super().__init__()\n",
        "        self.drop_prob = drop_prob\n",
        "        self.num_layers = num_layers\n",
        "        self.num_hidden = num_hidden\n",
        "        self.lr = lr\n",
        "        self.embedded = nn.Embedding(vocab_size, embed_size)\n",
        "        self.lstm = nn.LSTM(\n",
        "            embed_size, num_hidden, num_layers, dropout=drop_prob, batch_first=True\n",
        "        )\n",
        "        self.dropout = nn.Dropout(drop_prob)\n",
        "        self.fc = nn.Linear(num_hidden, vocab_size)\n",
        "\n",
        "    def forward(self, x, hidden):\n",
        "        embedded = self.embedded(x)\n",
        "        lstm_output, hidden = self.lstm(embedded, hidden)\n",
        "        dropout_out = self.dropout(lstm_output).reshape(-1, self.num_hidden)\n",
        "        out = self.fc(dropout_out)\n",
        "        return out, hidden\n",
        "\n",
        "    def init_hidden(self, batch_size):\n",
        "        weight = next(self.parameters()).data\n",
        "        hidden = (\n",
        "            weight.new(self.num_layers, batch_size, self.num_hidden).zero_(),\n",
        "            weight.new(self.num_layers, batch_size, self.num_hidden).zero_(),\n",
        "        )\n",
        "        return hidden\n",
        "\n",
        "\n",
        "model = LyricLSTM(num_hidden, num_layers, embed_size, drop_prob, lr)\n",
        "optimizer = torch.optim.Adam(model.parameters(), lr=lr)\n",
        "loss_func = nn.CrossEntropyLoss()\n",
        "\n",
        "model.train()\n",
        "\n",
        "\n",
        "def get_next_batch(x, y, batch_size):\n",
        "    for itr in range(batch_size, x.shape[0], batch_size):\n",
        "        batch_x = x[itr - batch_size : itr, :]\n",
        "        batch_y = y[itr - batch_size : itr, :]\n",
        "        yield batch_x, batch_y\n",
        "\n",
        "\n",
        "for epoch in range(num_epochs):\n",
        "    hidden_layer = model.init_hidden(batch_size)\n",
        "\n",
        "    for x, y in get_next_batch(x_idx, y_idx, batch_size):\n",
        "        inputs = torch.from_numpy(x).type(torch.LongTensor)\n",
        "        act = torch.from_numpy(y).type(torch.LongTensor)\n",
        "        hidden_layer = tuple([layer.data for layer in hidden_layer])\n",
        "        model.zero_grad()\n",
        "        output, hidden = model(inputs, hidden_layer)\n",
        "        loss = loss_func(output, act.view(-1))\n",
        "        loss.backward()\n",
        "        nn.utils.clip_grad_norm_(model.parameters(), 1)\n",
        "        optimizer.step()\n",
        "\n",
        "\n",
        "def predict(model, tkn, hidden_layer):\n",
        "    x = np.array([[word_to_idx[tkn]]])\n",
        "    inputs = torch.from_numpy(x).type(torch.LongTensor)\n",
        "    hidden = tuple([layer.data for layer in hidden_layer])\n",
        "    out, hidden = model(inputs, hidden)\n",
        "    prob = Functional.softmax(out, dim=1).data.numpy()\n",
        "    prob = prob.reshape(prob.shape[1],)\n",
        "    top_tokens = prob.argsort()[-3:][::-1]\n",
        "    selected_index = top_tokens[random.sample([0, 1, 2], 1)[0]]\n",
        "    return idx_to_word[selected_index], hidden\n",
        "\n",
        "\n",
        "def generate(model, num_words, start_text):\n",
        "    model.eval()\n",
        "    hidden = model.init_hidden(1)\n",
        "    tokens = start_text.split()\n",
        "    for token in start_text.split():\n",
        "        curr_token, hidden = predict(model, token, hidden)\n",
        "    tokens.append(curr_token)\n",
        "    for token_num in range(num_words - 1):\n",
        "        token, hidden = predict(model, tokens[-1], hidden)\n",
        "        tokens.append(token)\n",
        "    return \" \".join(tokens)\n",
        "\n",
        "\n",
        "def filter_words(text):\n",
        "    filtered_words = [\"hate\", \"profanity_word2\", \"profanity_word3\"]\n",
        "    for word in filtered_words:\n",
        "        text = text.replace(word, '*' * len(word))\n",
        "    return text\n",
        "\n",
        "\n",
        "def get_lyric(start_text, num_words):\n",
        "    generated_text = generate(model, num_words, start_text.lower())\n",
        "    filtered_text = filter_words(generated_text)\n",
        "    return filtered_text\n",
        "\n",
        "\n",
        "get_lyric(\"I hate you\", 7)\n"
      ]
    },
    {
      "cell_type": "code",
      "source": [
        "get_lyric(\"I need you\", 20)"
      ],
      "metadata": {
        "colab": {
          "base_uri": "https://localhost:8080/",
          "height": 36
        },
        "id": "LFg-DdOH1C5o",
        "outputId": "3a614341-9061-4e69-bce4-ac2e86278502"
      },
      "execution_count": 7,
      "outputs": [
        {
          "output_type": "execute_result",
          "data": {
            "text/plain": [
              "'i need you to go deeper with this americana clearly oh im left you so mase is some unspike ago we forget that'"
            ],
            "application/vnd.google.colaboratory.intrinsic+json": {
              "type": "string"
            }
          },
          "metadata": {},
          "execution_count": 7
        }
      ]
    }
  ],
  "metadata": {
    "colab": {
      "provenance": [],
      "authorship_tag": "ABX9TyPOrSg+17JLn7ftITzGZ1TM",
      "include_colab_link": true
    },
    "kernelspec": {
      "display_name": "Python 3",
      "name": "python3"
    },
    "language_info": {
      "name": "python"
    }
  },
  "nbformat": 4,
  "nbformat_minor": 0
}